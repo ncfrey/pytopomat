{
 "cells": [
  {
   "cell_type": "markdown",
   "metadata": {},
   "source": [
    "# pytopomat Example Notebook\n",
    "This notebook will show you how to\n",
    "* Obtain symmetry operation eigenvalues with IrRep, Irvsp, and Vasp2Trace\n",
    "* Compute topological invariants directly from output files.\n",
    "* Submit workflows for high-throughput band topology calculations."
   ]
  },
  {
   "cell_type": "code",
   "execution_count": 1,
   "metadata": {},
   "outputs": [],
   "source": [
    "%load_ext autoreload\n",
    "%autoreload 2"
   ]
  },
  {
   "cell_type": "code",
   "execution_count": 2,
   "metadata": {},
   "outputs": [],
   "source": [
    "test_dir = \"test_files/\""
   ]
  },
  {
   "cell_type": "markdown",
   "metadata": {},
   "source": [
    "## IrRep to compute irreducible representations (https://arxiv.org/abs/2009.01764)\n",
    "Install irrep from: https://github.com/stepan-tsirkin/irrep\n",
    "\n",
    "Following the instructions here: https://pypi.org/project/irrep/ \n",
    "\n",
    "Run a calculation with LWAVE = .TRUE.  \n",
    "Make sure the crystal is given in a standard setting, e.g. by doing `phonopy --tolerance 0.01 --symmetry -c POSCAR`\n",
    "\n",
    "**NOTE: The IrRep tool in the example below can also be substituted for Irvsp."
   ]
  },
  {
   "cell_type": "code",
   "execution_count": 3,
   "metadata": {},
   "outputs": [],
   "source": [
    "from pytopomat.irrep_caller import IrrepCaller, IrrepOutput"
   ]
  },
  {
   "cell_type": "code",
   "execution_count": null,
   "metadata": {},
   "outputs": [],
   "source": [
    "# In a directory with OUTCAR, WAVECAR, and POSCAR; we'll get an error if the irrep script is not in the path\n",
    "ic = IrrepCaller('.')\n",
    "irrep_out = ic.output"
   ]
  },
  {
   "cell_type": "code",
   "execution_count": 5,
   "metadata": {},
   "outputs": [
    {
     "name": "stderr",
     "output_type": "stream",
     "text": [
      "/home/jason/Documents/DEVELOP/pytopomat/pytopomat/irrep_caller.py:221: UserWarning: Irrep output data has non-integer parity eigenvalues!\n",
      "  \"Irrep output data has non-integer parity eigenvalues!\"\n"
     ]
    }
   ],
   "source": [
    "# Take an irrep output that has been pre-computed for a spin-polarized system\n",
    "irrep_out = IrrepOutput(test_dir + \"CrO2_sp_irrep.txt\")"
   ]
  },
  {
   "cell_type": "code",
   "execution_count": 6,
   "metadata": {},
   "outputs": [
    {
     "data": {
      "text/plain": [
       "dict_keys(['gamma', 'x', 'y', 'z', 's', 't', 'u', 'r'])"
      ]
     },
     "execution_count": 6,
     "metadata": {},
     "output_type": "execute_result"
    }
   ],
   "source": [
    "# The IrrepOutput instance contains parity eigenvalues for all the bands at the TRIM points\n",
    "irrep_out.parity_eigenvals.keys()"
   ]
  },
  {
   "cell_type": "code",
   "execution_count": 7,
   "metadata": {},
   "outputs": [
    {
     "data": {
      "text/plain": [
       "[-1.0, -1.0, -1.0, -1.0, -1.0]"
      ]
     },
     "execution_count": 7,
     "metadata": {},
     "output_type": "execute_result"
    }
   ],
   "source": [
    "# Inspect the parity eigenvalues in the first 5 valence bands at the Gamma point\n",
    "irrep_out.parity_eigenvals[\"gamma\"][\"inversion_eigenval\"][:5]"
   ]
  },
  {
   "cell_type": "markdown",
   "metadata": {},
   "source": [
    "### Compute the topological invariants from irvsp output\n",
    "The BandParity analyzer will try to find a gapped subspace of valence bands and assume that the lower-lying bands are topologically trivial.  \n",
    "For systems with time-reversal and inversion symmetries, we can compute the $\\mathbb{Z}_2$ invariant.    \n",
    "For systems breaking time-reversal but preserving inversion we can still do some analyze using the parity eigenvalues.  \n",
    "For 2D systems `compute_z2` will return the $\\mathbb{Z}_2$ invariant.   \n",
    "For 3D systems it will compute $\\mathbb{Z}_2$ = ($v_0$; $v_1$, $v_2$, $v_3$)"
   ]
  },
  {
   "cell_type": "code",
   "execution_count": 8,
   "metadata": {},
   "outputs": [],
   "source": [
    "from pytopomat.analyzer import BandParity"
   ]
  },
  {
   "cell_type": "markdown",
   "metadata": {},
   "source": [
    "For inversion symmetric systems breaking time-reversal, the strong topological index $z_4$ as defined in Eq 1 of https://arxiv.org/abs/2003.00012.  \n",
    "* $z_4 = 0$ -> trivial\n",
    "* $z_4 = 1, 3$ -> Weyl semimetal phase (odd number of of Weyl points in half of the Brillouin zone)\n",
    "* $z_4 = 2$ -> Axion insulator with quantized topological magneto-electric response"
   ]
  },
  {
   "cell_type": "code",
   "execution_count": 9,
   "metadata": {},
   "outputs": [
    {
     "data": {
      "text/plain": [
       "3.0"
      ]
     },
     "execution_count": 9,
     "metadata": {},
     "output_type": "execute_result"
    }
   ],
   "source": [
    "# We have to specify at least thethe Fermi level (E-fermi in VASP OUTCAR) from the calculation for irrep and irvsp, but not for vasp2trace\n",
    "# Passing the total number of electrons (nelect) is highly recommended to ensure proper selection of occupied states \n",
    "bp = BandParity(irrep_out, spin_polarized=True, nelect=48, efermi=4.6476)\n",
    "\n",
    "bp.compute_z4()"
   ]
  },
  {
   "cell_type": "code",
   "execution_count": 10,
   "metadata": {},
   "outputs": [
    {
     "name": "stdout",
     "output_type": "stream",
     "text": [
      "Only considering last 13 pairs of bands.\n"
     ]
    },
    {
     "name": "stderr",
     "output_type": "stream",
     "text": [
      "/home/jason/Documents/DEVELOP/pytopomat/pytopomat/irrep_caller.py:221: UserWarning: Irrep output data has non-integer parity eigenvalues!\n",
      "  \"Irrep output data has non-integer parity eigenvalues!\"\n"
     ]
    },
    {
     "data": {
      "text/plain": [
       "array([1., 0., 0., 0.])"
      ]
     },
     "execution_count": 10,
     "metadata": {},
     "output_type": "execute_result"
    }
   ],
   "source": [
    "# An example with SOC and no spin-polarization\n",
    "irrep_out = IrrepOutput(test_dir + \"Na3Bi_irrep.txt\")\n",
    "bp = BandParity(irrep_out, spin_polarized=False, nelect=26, efermi=2.6723)\n",
    "\n",
    "bp.compute_z2(tol=-1)  # Tolerance for energy differences between bands to define degeneracy; test the sensistivity of results to this parameter!"
   ]
  },
  {
   "cell_type": "markdown",
   "metadata": {},
   "source": [
    "Note that with the default tol value above (-1), we use all occupied bands to compute the $\\mathbb{Z}_2$ invariant for Na3Bi. \n",
    "If we adjust the tolerance and consider a different subspace of bands, the invariants may change.  \n",
    "You should check the sensitivity of invariants with respect to the tolerance."
   ]
  },
  {
   "cell_type": "code",
   "execution_count": 11,
   "metadata": {},
   "outputs": [
    {
     "name": "stdout",
     "output_type": "stream",
     "text": [
      "Only considering last 1 pairs of bands.\n"
     ]
    },
    {
     "data": {
      "text/plain": [
       "array([0., 0., 0., 0.])"
      ]
     },
     "execution_count": 11,
     "metadata": {},
     "output_type": "execute_result"
    }
   ],
   "source": [
    "bp.compute_z2(tol=0.1)"
   ]
  },
  {
   "cell_type": "code",
   "execution_count": 12,
   "metadata": {},
   "outputs": [
    {
     "name": "stdout",
     "output_type": "stream",
     "text": [
      "Only considering last 3 pairs of bands.\n"
     ]
    },
    {
     "data": {
      "text/plain": [
       "array([1., 0., 0., 0.])"
      ]
     },
     "execution_count": 12,
     "metadata": {},
     "output_type": "execute_result"
    }
   ],
   "source": [
    "bp.compute_z2(tol=2)"
   ]
  },
  {
   "cell_type": "markdown",
   "metadata": {},
   "source": [
    "## Vasp2Trace Analysis\n",
    "v2t has two versions, v1 for non-spin-polarized systems and v2 for spin-polarized systems."
   ]
  },
  {
   "cell_type": "code",
   "execution_count": 13,
   "metadata": {},
   "outputs": [],
   "source": [
    "from pytopomat.vasp2trace_caller import Vasp2TraceCaller, Vasp2Trace2Caller, Vasp2TraceOutput"
   ]
  },
  {
   "cell_type": "code",
   "execution_count": 14,
   "metadata": {},
   "outputs": [
    {
     "ename": "RuntimeError",
     "evalue": "Vasp2TraceCaller requires vasp2trace to be in the path.Please follow the instructions at http://www.cryst.ehu.es/cgi-bin/cryst/programs/topological.pl.",
     "output_type": "error",
     "traceback": [
      "\u001b[0;31m---------------------------------------------------------------------------\u001b[0m",
      "\u001b[0;31mRuntimeError\u001b[0m                              Traceback (most recent call last)",
      "\u001b[0;32m<ipython-input-14-2c0675fa220a>\u001b[0m in \u001b[0;36m<module>\u001b[0;34m\u001b[0m\n\u001b[0;32m----> 1\u001b[0;31m \u001b[0mvc\u001b[0m \u001b[0;34m=\u001b[0m \u001b[0mVasp2TraceCaller\u001b[0m\u001b[0;34m(\u001b[0m\u001b[0;34m'.'\u001b[0m\u001b[0;34m)\u001b[0m  \u001b[0;31m# as before, we'll get a warning if we don't have the executables in the path\u001b[0m\u001b[0;34m\u001b[0m\u001b[0;34m\u001b[0m\u001b[0m\n\u001b[0m\u001b[1;32m      2\u001b[0m \u001b[0mvc2\u001b[0m \u001b[0;34m=\u001b[0m \u001b[0mVasp2Trace2Caller\u001b[0m\u001b[0;34m(\u001b[0m\u001b[0;34m'.'\u001b[0m\u001b[0;34m)\u001b[0m\u001b[0;34m\u001b[0m\u001b[0;34m\u001b[0m\u001b[0m\n",
      "\u001b[0;32m~/anaconda3/envs/topology/lib/python3.7/site-packages/monty-4.0.2-py3.7.egg/monty/dev.py\u001b[0m in \u001b[0;36mdecorated\u001b[0;34m(*args, **kwargs)\u001b[0m\n\u001b[1;32m     93\u001b[0m         \u001b[0;32mdef\u001b[0m \u001b[0mdecorated\u001b[0m\u001b[0;34m(\u001b[0m\u001b[0;34m*\u001b[0m\u001b[0margs\u001b[0m\u001b[0;34m,\u001b[0m \u001b[0;34m**\u001b[0m\u001b[0mkwargs\u001b[0m\u001b[0;34m)\u001b[0m\u001b[0;34m:\u001b[0m\u001b[0;34m\u001b[0m\u001b[0;34m\u001b[0m\u001b[0m\n\u001b[1;32m     94\u001b[0m             \u001b[0;32mif\u001b[0m \u001b[0;32mnot\u001b[0m \u001b[0mself\u001b[0m\u001b[0;34m.\u001b[0m\u001b[0mcondition\u001b[0m\u001b[0;34m:\u001b[0m\u001b[0;34m\u001b[0m\u001b[0;34m\u001b[0m\u001b[0m\n\u001b[0;32m---> 95\u001b[0;31m                 \u001b[0;32mraise\u001b[0m \u001b[0mRuntimeError\u001b[0m\u001b[0;34m(\u001b[0m\u001b[0mself\u001b[0m\u001b[0;34m.\u001b[0m\u001b[0mmessage\u001b[0m\u001b[0;34m)\u001b[0m\u001b[0;34m\u001b[0m\u001b[0;34m\u001b[0m\u001b[0m\n\u001b[0m\u001b[1;32m     96\u001b[0m             \u001b[0;32mreturn\u001b[0m \u001b[0m_callable\u001b[0m\u001b[0;34m(\u001b[0m\u001b[0;34m*\u001b[0m\u001b[0margs\u001b[0m\u001b[0;34m,\u001b[0m \u001b[0;34m**\u001b[0m\u001b[0mkwargs\u001b[0m\u001b[0;34m)\u001b[0m\u001b[0;34m\u001b[0m\u001b[0;34m\u001b[0m\u001b[0m\n\u001b[1;32m     97\u001b[0m \u001b[0;34m\u001b[0m\u001b[0m\n",
      "\u001b[0;31mRuntimeError\u001b[0m: Vasp2TraceCaller requires vasp2trace to be in the path.Please follow the instructions at http://www.cryst.ehu.es/cgi-bin/cryst/programs/topological.pl."
     ]
    }
   ],
   "source": [
    "vc = Vasp2TraceCaller('.')  # as before, we'll get a warning if we don't have the executables in the path\n",
    "vc2 = Vasp2Trace2Caller('.')"
   ]
  },
  {
   "cell_type": "code",
   "execution_count": 15,
   "metadata": {},
   "outputs": [],
   "source": [
    "out = Vasp2TraceOutput(test_dir + 'Bi2Se3_trace_soc.txt')  # load precomputed data"
   ]
  },
  {
   "cell_type": "code",
   "execution_count": 16,
   "metadata": {},
   "outputs": [
    {
     "name": "stdout",
     "output_type": "stream",
     "text": [
      "144 \n",
      "\n",
      "[[0.0, 0.0, 0.0], [0.0, 0.0, 0.5], [0.0, 0.5, 0.0], [0.0, 0.5, 0.5], [0.5, 0.0, 0.0], [0.5, 0.0, 0.5], [0.5, 0.5, 0.0], [0.5, 0.5, 0.5]] \n",
      "\n",
      "[1.0, 0.0, 0.0, 0.0, 1.0, 0.0, 0.0, 0.0, 1.0, 0.0, 0.0, 0.0, 1.0, 0.0, 0.0, 0.0, 0.0, 0.0, 1.0, 0.0]\n",
      "[-1.0, 0.0, 0.0, 0.0, -1.0, 0.0, 0.0, 0.0, -1.0, 0.0, 0.0, 0.0, 1.0, 0.0, 0.0, 0.0, 0.0, 0.0, 1.0, 0.0]\n"
     ]
    }
   ],
   "source": [
    "# Look at some of the info v2t gives us\n",
    "print(out.num_occ_bands, '\\n')\n",
    "print(out.kvecs, '\\n')  # TRIM points\n",
    "for so in out.symm_ops:\n",
    "    print(so)  # Here we have the identiy and inversion operations"
   ]
  },
  {
   "cell_type": "markdown",
   "metadata": {},
   "source": [
    "### Topological invariants from v2t\n",
    "To process the output we need to format it as a dictionary that contains v2t output for each spin channel. Then we can do the same analysis as before."
   ]
  },
  {
   "cell_type": "code",
   "execution_count": 17,
   "metadata": {},
   "outputs": [
    {
     "name": "stdout",
     "output_type": "stream",
     "text": [
      "Only considering last 3 pairs of bands.\n",
      "[1. 0. 0. 1.]\n",
      "Only considering last 3 pairs of bands.\n",
      "[1. 0. 0. 1.]\n",
      "Only considering last 24 pairs of bands.\n",
      "[0. 0. 0. 0.]\n",
      "Only considering last 24 pairs of bands.\n",
      "[0. 0. 0. 0.]\n",
      "Only considering last 24 pairs of bands.\n",
      "[0. 0. 0. 0.]\n"
     ]
    },
    {
     "name": "stderr",
     "output_type": "stream",
     "text": [
      "/home/jason/Documents/DEVELOP/pytopomat/pytopomat/analyzer.py:490: UserWarning: Number of electrons not provided. Will try and infer total from identity eigenvalues.\n",
      "  \"Number of electrons not provided. Will try and infer total from identity eigenvalues.\"\n"
     ]
    }
   ],
   "source": [
    "import numpy as np\n",
    "\n",
    "bp = BandParity({'up': out})\n",
    "\n",
    "# Loop through to try a range of tolerance values\n",
    "for tol in np.linspace(0.1, 0.15, 5):\n",
    "    try:\n",
    "        print(bp.compute_z2(tol=tol))\n",
    "    except:\n",
    "        pass"
   ]
  },
  {
   "cell_type": "markdown",
   "metadata": {},
   "source": [
    "## Spin-polarization\n",
    "Let's see what happens if we use v2t with spin-polarization."
   ]
  },
  {
   "cell_type": "code",
   "execution_count": 18,
   "metadata": {},
   "outputs": [
    {
     "data": {
      "text/plain": [
       "0.0"
      ]
     },
     "execution_count": 18,
     "metadata": {},
     "output_type": "execute_result"
    }
   ],
   "source": [
    "u = Vasp2TraceOutput(test_dir + 'Bi2Se3_trace_up.txt')\n",
    "d = Vasp2TraceOutput(test_dir + 'Bi2Se3_trace_dn.txt')\n",
    "bp = BandParity({'up': u, 'down': d})\n",
    "bp.compute_z4()"
   ]
  },
  {
   "cell_type": "code",
   "execution_count": 19,
   "metadata": {},
   "outputs": [
    {
     "data": {
      "text/plain": [
       "{'insulator': True,\n",
       " 'semimetal_candidate': False,\n",
       " 'polarization_bqhc': True,\n",
       " 'magnetoelectric': True}"
      ]
     },
     "execution_count": 19,
     "metadata": {},
     "output_type": "execute_result"
    }
   ],
   "source": [
    "bp.screen_magnetic_parity()  # Quick summary of allowable properties"
   ]
  },
  {
   "cell_type": "markdown",
   "metadata": {},
   "source": [
    "## Z2Pack\n",
    "z2p requires an input directory with all VASP output files generated from a calc with some specific Wannier90 flags.  \n",
    "The easiest way to do this is to run the wflow below, where this is all automated.  \n",
    "If you had a calculation completed, you could use `Z2PackCaller` directly to run z2p."
   ]
  },
  {
   "cell_type": "code",
   "execution_count": 20,
   "metadata": {},
   "outputs": [],
   "source": [
    "from pytopomat.z2pack_caller import Z2PackCaller"
   ]
  },
  {
   "cell_type": "code",
   "execution_count": null,
   "metadata": {},
   "outputs": [],
   "source": [
    "zc = Z2PackCaller(input_dir='input', surface='kx_0', vasp_cmd='srun vasp_ncl >& log')\n",
    "zc.run(z2_settings={'pos_tol': 0.02})  # check z2p docs for explanation of optional convergence settings"
   ]
  },
  {
   "cell_type": "code",
   "execution_count": 21,
   "metadata": {},
   "outputs": [],
   "source": [
    "from pytopomat.z2pack_caller import Z2Output\n",
    "import z2pack"
   ]
  },
  {
   "cell_type": "code",
   "execution_count": 22,
   "metadata": {},
   "outputs": [],
   "source": [
    "result = z2pack.io.load(test_dir+'res_1.json')  # load a pre-computed surface calculation\n",
    "out = Z2Output(result, surface='kx_0')"
   ]
  },
  {
   "cell_type": "markdown",
   "metadata": {},
   "source": [
    "The z2p output has topological invariants stored so we can just print them."
   ]
  },
  {
   "cell_type": "code",
   "execution_count": 23,
   "metadata": {},
   "outputs": [
    {
     "name": "stdout",
     "output_type": "stream",
     "text": [
      "0 -1.258173527141082e-06\n"
     ]
    }
   ],
   "source": [
    "print(out.z2_invariant, out.chern_number)"
   ]
  },
  {
   "cell_type": "markdown",
   "metadata": {},
   "source": [
    "## Workflows for high-throughput band topology\n",
    "Generating wflows for topology calculations is easy with pytopomat."
   ]
  },
  {
   "cell_type": "code",
   "execution_count": null,
   "metadata": {},
   "outputs": [],
   "source": [
    "from pymatgen import Structure, Lattice"
   ]
  },
  {
   "cell_type": "code",
   "execution_count": null,
   "metadata": {},
   "outputs": [],
   "source": [
    "bcc_bi = Structure.from_spacegroup(\"Im-3m\", Lattice.cubic(3.453), [\"Bi\"], [[0, 0, 0]])"
   ]
  },
  {
   "cell_type": "markdown",
   "metadata": {},
   "source": [
    "Vasp2Trace and irvsp wflows do band structure calculations at TRIM kpoints and compute the parity eigenvalues for obtaining topological invariants. They also generate \"trace.txt\" for non-spin-polarized calculations and \"trace_up.txt\" and \"trace_dn.txt\" files for spin-polarized calculations, which can be used to check the topological character of a material with Topological Quantum Chemistry.\n",
    "https://www.cryst.ehu.es/cgi-bin/cryst/programs/topological.pl\n",
    "\n",
    "To run the wflows in atomate, copy all the .yaml files from pytopomat/workflows into your atomate library, which in an anaconda environment is probably located here:  \n",
    "~/.conda/envs/<my_anaconda_environment_name>/lib/python3.6/site-packages/atomate/vasp/workflows/base/library/"
   ]
  },
  {
   "cell_type": "code",
   "execution_count": null,
   "metadata": {},
   "outputs": [],
   "source": [
    "from pytopomat.workflows.core import wf_vasp2trace_nonmagnetic, wf_vasp2trace_magnetic, wf_irvsp\n",
    "\n",
    "wf1 = wf_vasp2trace_nonmagnetic(bcc_bi)"
   ]
  },
  {
   "cell_type": "code",
   "execution_count": null,
   "metadata": {},
   "outputs": [],
   "source": [
    "bcc_bi.add_site_property(\"magmom\", [5.0, 5.0])  # must have \"magmom\" site property for magnetic wflows\n",
    "wf2 = wf_vasp2trace_magnetic(bcc_bi)"
   ]
  },
  {
   "cell_type": "code",
   "execution_count": null,
   "metadata": {},
   "outputs": [],
   "source": [
    "wf3 = wf_irvsp(bcc_bi, magnetic=True, soc=False, v2t=True)  # Run a combined v2t and irvsp wflow"
   ]
  },
  {
   "cell_type": "markdown",
   "metadata": {},
   "source": [
    "The Z2Pack wflow is a more general wflow that uses hybrid Wannier charge centers to compute Z2 indices and Chern numbers on inequivalent TRI planes in the 3D Brillouin zone."
   ]
  },
  {
   "cell_type": "code",
   "execution_count": null,
   "metadata": {},
   "outputs": [],
   "source": [
    "from pytopomat.workflows.core import Z2PackWF\n",
    "\n",
    "wf4 = Z2PackWF(bcc_bi, symmetry_reduction=False).get_wf()  # symm reduction can be used in non-magnetic wflows to reduce the number of BZ surface calcs"
   ]
  },
  {
   "cell_type": "code",
   "execution_count": null,
   "metadata": {},
   "outputs": [],
   "source": [
    "from fireworks import LaunchPad\n",
    "\n",
    "# Define a LaunchPad for your database\n",
    "lpad = LaunchPad(\n",
    "    host=\"mongodb03.nersc.gov\",\n",
    "    name=\"\",\n",
    "    username=\"\",\n",
    "    password=\"\"\n",
    ")\n",
    "\n",
    "for wf in [wf1, wf2, wf3, wf4]:\n",
    "    lpad.add_wf(wf)"
   ]
  }
 ],
 "metadata": {
  "kernelspec": {
   "display_name": "Python 3",
   "language": "python",
   "name": "python3"
  },
  "language_info": {
   "codemirror_mode": {
    "name": "ipython",
    "version": 3
   },
   "file_extension": ".py",
   "mimetype": "text/x-python",
   "name": "python",
   "nbconvert_exporter": "python",
   "pygments_lexer": "ipython3",
   "version": "3.7.9"
  }
 },
 "nbformat": 4,
 "nbformat_minor": 4
}
